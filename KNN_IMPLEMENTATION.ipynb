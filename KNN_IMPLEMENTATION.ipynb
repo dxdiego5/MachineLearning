{
  "nbformat": 4,
  "nbformat_minor": 0,
  "metadata": {
    "colab": {
      "provenance": [],
      "authorship_tag": "ABX9TyPEPDmZC9/w7BF+WCtOSAJQ",
      "include_colab_link": true
    },
    "kernelspec": {
      "name": "python3",
      "display_name": "Python 3"
    },
    "language_info": {
      "name": "python"
    }
  },
  "cells": [
    {
      "cell_type": "markdown",
      "metadata": {
        "id": "view-in-github",
        "colab_type": "text"
      },
      "source": [
        "<a href=\"https://colab.research.google.com/github/dxdiego5/MachineLearning/blob/main/KNN_IMPLEMENTATION.ipynb\" target=\"_parent\"><img src=\"https://colab.research.google.com/assets/colab-badge.svg\" alt=\"Open In Colab\"/></a>"
      ]
    },
    {
      "cell_type": "markdown",
      "source": [
        "#### Implementação KNN"
      ],
      "metadata": {
        "id": "Xf6XzVzHcs40"
      }
    },
    {
      "cell_type": "code",
      "source": [
        "import pandas as pd\n",
        "from sklearn.model_selection import train_test_split\n",
        "from sklearn.preprocessing import normalize\n",
        "import numpy as np\n",
        "\n",
        "def distance(element,x):\n",
        "\n",
        "\tdist = 0\n",
        "\n",
        "\tfor i in range(len(element)):\n",
        "\n",
        "\t\tdist += (element[i]-x[i])**2\n",
        "\n",
        "\n",
        "\treturn dist**(0.5)\n",
        "\n",
        "\n",
        "def most_close_element(element,x_train,y_train,y_verification):\n",
        "\n",
        "\n",
        "\tmin_distance = float('inf')\n",
        "\tclass_most_close = 0\n",
        "\tidx_most_close = 0\n",
        "\n",
        "\n",
        "\tfor i in range(np.shape(x_train)[0]):\n",
        "\n",
        "\t\tcurrent_distance = distance(element,x_train[i])\n",
        "\n",
        "\t\tif current_distance < min_distance and y_verification[i]:\n",
        "\t\t\tmin_distance = current_distance\n",
        "\t\t\tclass_most_close = y_train[i]\n",
        "\t\t\tidx_most_close = i\n",
        "\n",
        "\n",
        "\ty_verification[idx_most_close] = False\n",
        "\n",
        "\treturn class_most_close,y_verification\n",
        "\n",
        "\n",
        "def most_common(most_classes_close):\n",
        "\treturn max(set(most_classes_close),key=most_classes_close.count)\n",
        "\n",
        "def main():\n",
        "\n",
        "\tdata = pd.read_csv('wine.data',names=['class','atr1','atr2','atr3','atr4','atr5','atr6','atr7','atr8','atr9','atr10','atr11','atr12','atr13'])\n",
        "\n",
        "\tx_train,x_test =  train_test_split(data,test_size=0.2,random_state=32,shuffle=True)\n",
        "\n",
        "\ty_train = list(x_train['class'])\n",
        "\tdel x_train['class']\n",
        "\n",
        "\ty_test = list(x_test['class'])\n",
        "\tdel x_test['class']\n",
        "\n",
        "\n",
        "\tx_train = normalize(x_train,axis=0)\n",
        "\tx_test = normalize(x_test,axis=0)\n",
        "\n",
        "\n",
        "\n",
        "\tk = 5\n",
        "\tacc = 0\n",
        "\n",
        "\tfor i in range(np.shape(x_test)[0]):\n",
        "\n",
        "\t\tmost_classes_close = [0]*k\n",
        "\n",
        "\t\ty_verification = [True]*len(y_train)\n",
        "\n",
        "\t\tfor j in range(k):\n",
        "\n",
        "\t\t\tmost_classes_close[j],y_verification = most_close_element(x_test[i],x_train,y_train,y_verification)\n",
        "\t\tif most_common(most_classes_close) == y_test[i]:\n",
        "\t\t\tacc += 1\n",
        "\n",
        "\tprint('Acertos: ',acc,'Acuracia: ',round((acc/np.shape(y_test)[0])* 100, 2))\n",
        "\n"
      ],
      "metadata": {
        "id": "dtESi1dHckbG"
      },
      "execution_count": 76,
      "outputs": []
    },
    {
      "cell_type": "code",
      "source": [
        "main()\n"
      ],
      "metadata": {
        "colab": {
          "base_uri": "https://localhost:8080/"
        },
        "id": "8eeKC48YprRM",
        "outputId": "7c356666-1c3d-4fdd-a542-06fad35e6378"
      },
      "execution_count": 77,
      "outputs": [
        {
          "output_type": "stream",
          "name": "stdout",
          "text": [
            "Acertos:  30 Acuracia:  83.33\n"
          ]
        }
      ]
    }
  ]
}