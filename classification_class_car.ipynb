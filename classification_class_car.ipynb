{
  "nbformat": 4,
  "nbformat_minor": 0,
  "metadata": {
    "colab": {
      "provenance": [],
      "authorship_tag": "ABX9TyO+w33nXwWwOkVvRkkXeOg/",
      "include_colab_link": true
    },
    "kernelspec": {
      "name": "python3",
      "display_name": "Python 3"
    },
    "language_info": {
      "name": "python"
    }
  },
  "cells": [
    {
      "cell_type": "markdown",
      "metadata": {
        "id": "view-in-github",
        "colab_type": "text"
      },
      "source": [
        "<a href=\"https://colab.research.google.com/github/dxdiego5/MachineLearning/blob/main/classification_class_car.ipynb\" target=\"_parent\"><img src=\"https://colab.research.google.com/assets/colab-badge.svg\" alt=\"Open In Colab\"/></a>"
      ]
    },
    {
      "cell_type": "markdown",
      "source": [
        "######imports"
      ],
      "metadata": {
        "id": "MFQA5apOnTcj"
      }
    },
    {
      "cell_type": "code",
      "execution_count": 2,
      "metadata": {
        "id": "F4eqCXb0nNJ6"
      },
      "outputs": [],
      "source": [
        "import pandas as pd\n",
        "import numpy as np\n",
        "import matplotlib.pyplot as plt\n",
        "import seaborn as sns\n",
        "import imblearn\n",
        "from imblearn.over_sampling import SMOTE\n",
        "from sklearn import preprocessing\n",
        "from sklearn.model_selection import train_test_split\n",
        "from sklearn.neighbors import KNeighborsRegressor\n",
        "from sklearn.neighbors import KNeighborsClassifier \n",
        "from sklearn.metrics import confusion_matrix\n",
        "from sklearn.metrics import classification_report"
      ]
    },
    {
      "cell_type": "markdown",
      "source": [
        "###### Funções"
      ],
      "metadata": {
        "id": "9z8lOCOTn3f5"
      }
    },
    {
      "cell_type": "code",
      "source": [
        "def graf_linha(df):\n",
        "    plt.figure(figsize=(20, 10))\n",
        "    plt.plot(df)\n",
        "    plt.show()\n",
        "    \n",
        "def graf_histograma(df):\n",
        "    plt.figure(figsize=(15, 10))\n",
        "    plt.hist(df, 10, rwidth=0.9)\n",
        "    plt.show()\n",
        "    \n",
        "def info_describe(df):\n",
        "    print(df.describe())\n",
        "\n",
        "def graf_boxplot(df):\n",
        "    sns.boxplot(df)\n",
        "\n",
        "def filtro_quartil_IIQ(df, col_):\n",
        "    \n",
        "  Q1 = np.percentile(df[col_], 25)\n",
        "  # Q2 = np.percentile(df[col_], 50)\n",
        "  Q3 = np.percentile(df[col_], 75)\n",
        "\n",
        "  C = 1.5\n",
        "\n",
        "  IIQ = Q3 - Q1\n",
        "  LI = Q1 - (C * IIQ)\n",
        "  LS = Q3 + (C * IIQ)\n",
        "  \n",
        "  df_mask= df[col_] > LI\n",
        "  amplit_pos = df[df_mask]\n",
        "  \n",
        "  df_mask= amplit_pos[col_] < LS\n",
        "  df = amplit_pos[df_mask]\n",
        "  # dataframe atualizado sem outliers\n",
        "  return df"
      ],
      "metadata": {
        "id": "i2siyDvwn54E"
      },
      "execution_count": 3,
      "outputs": []
    },
    {
      "cell_type": "markdown",
      "source": [
        "##### Importação da base de dados"
      ],
      "metadata": {
        "id": "nEeq0MTxoObL"
      }
    },
    {
      "cell_type": "code",
      "source": [
        "df = pd.read_csv('car_ad.csv')\n",
        "# df.info()\n",
        "# df.shape\n",
        "# df.isnull().sum()"
      ],
      "metadata": {
        "id": "brWO3cj0oT8R"
      },
      "execution_count": 4,
      "outputs": []
    },
    {
      "cell_type": "markdown",
      "source": [
        "##### Limpeza do dataset"
      ],
      "metadata": {
        "id": "_HA1mRe_okFB"
      }
    },
    {
      "cell_type": "code",
      "source": [
        "## Remoção de dados NAN\n",
        "df.dropna(axis=0,inplace=True)\n",
        "df.reset_index(drop=True, inplace=True)\n",
        "\n",
        "# df.info()\n",
        "# df.head()"
      ],
      "metadata": {
        "id": "DRMnhoMroW6T"
      },
      "execution_count": 5,
      "outputs": []
    },
    {
      "cell_type": "markdown",
      "source": [
        "##### Deleção de colunas que eu acho desnecessárias para a analise de classificação"
      ],
      "metadata": {
        "id": "2EhnjInTpcCA"
      }
    },
    {
      "cell_type": "code",
      "source": [
        "df.drop(['registration','mileage'], axis=1, inplace=True)\n",
        "df.reset_index(drop=True, inplace=True)"
      ],
      "metadata": {
        "id": "HFYsMjAcozgU"
      },
      "execution_count": 6,
      "outputs": []
    },
    {
      "cell_type": "markdown",
      "source": [
        "##### Filtragem de dados para a analise limpa "
      ],
      "metadata": {
        "id": "fekb8yLhx84B"
      }
    },
    {
      "cell_type": "code",
      "source": [
        "df_car = df.query(\"body != 'other'\").reset_index(drop=True)"
      ],
      "metadata": {
        "id": "s5NJZ4G7pxNd"
      },
      "execution_count": 34,
      "outputs": []
    },
    {
      "cell_type": "code",
      "source": [
        "# df_car.sort_values(by=['model','car'], inplace=True)"
      ],
      "metadata": {
        "id": "nEV6QGkU0T7P"
      },
      "execution_count": null,
      "outputs": []
    },
    {
      "cell_type": "markdown",
      "source": [
        "##### Transformando os dados em numericos"
      ],
      "metadata": {
        "id": "wAhZ6wdfAxn-"
      }
    },
    {
      "cell_type": "code",
      "source": [
        "list_classes_names = df_car.body.unique()\n",
        "\n",
        "display(list_classes_names)\n",
        "\n",
        "label_encoder = preprocessing.LabelEncoder()\n",
        "df_car['car'] = label_encoder.fit_transform(df_car['car'])\n",
        "df_car['body_norm'] = label_encoder.fit_transform(df_car['body'])\n",
        "df_car['model'] = label_encoder.fit_transform(df_car['model'])\n",
        "df_car['drive'] = label_encoder.fit_transform(df_car['drive'])\n",
        "df_car['engType'] = label_encoder.fit_transform(df_car['engType'])\n",
        "# df_car['price'] = label_encoder.fit_transform(df_car['price'])\n",
        "# df_car['year'] = label_encoder.fit_transform(df_car['year'])\n",
        "# df_car['engV'] = label_encoder.fit_transform(df_car['engV'])\n",
        "\n",
        "display(df_car.body_norm.unique())"
      ],
      "metadata": {
        "colab": {
          "base_uri": "https://localhost:8080/",
          "height": 52
        },
        "id": "xzN50gF5A1c2",
        "outputId": "6467211e-58e7-4e7f-c4e6-a68326e2ce63"
      },
      "execution_count": 35,
      "outputs": [
        {
          "output_type": "display_data",
          "data": {
            "text/plain": [
              "array(['crossover', 'sedan', 'van', 'vagon', 'hatch'], dtype=object)"
            ]
          },
          "metadata": {}
        },
        {
          "output_type": "display_data",
          "data": {
            "text/plain": [
              "array([0, 2, 4, 3, 1])"
            ]
          },
          "metadata": {}
        }
      ]
    },
    {
      "cell_type": "code",
      "source": [
        "df_car"
      ],
      "metadata": {
        "id": "rIBLSdSiBOxZ"
      },
      "execution_count": null,
      "outputs": []
    },
    {
      "cell_type": "markdown",
      "source": [
        "##### criacao das classes em dataframes e aplicacao da funcão de filtragem de quartil"
      ],
      "metadata": {
        "id": "4M3dnkBmx6se"
      }
    },
    {
      "cell_type": "code",
      "source": [
        "df_classes = {}\n",
        "for class_ in df_car.body.unique():\n",
        "  df_classes[class_] = df_car.query(f\"body == '{class_}'\")\n",
        "  for col_ in ['engV']:\n",
        "    df_classes[class_] = filtro_quartil_IIQ(df_classes[class_], col_)"
      ],
      "metadata": {
        "id": "RYP6aDpNB4RM"
      },
      "execution_count": 36,
      "outputs": []
    },
    {
      "cell_type": "markdown",
      "source": [
        "##### concatenação dos dataframes por classe apos filtragem"
      ],
      "metadata": {
        "id": "g7v4sItgybWL"
      }
    },
    {
      "cell_type": "code",
      "source": [
        "list_classes_names = df_car.body.unique()\n",
        "df_car = pd.concat([df_classes[class_]  for class_ in list_classes_names]).reset_index(drop=True)"
      ],
      "metadata": {
        "id": "x_rzUh4eygnL"
      },
      "execution_count": 37,
      "outputs": []
    },
    {
      "cell_type": "code",
      "source": [
        "# df_car"
      ],
      "metadata": {
        "id": "DjYiisVMyyQw"
      },
      "execution_count": null,
      "outputs": []
    },
    {
      "cell_type": "markdown",
      "source": [
        "##### Analise especificas"
      ],
      "metadata": {
        "id": "zqE-4Q7s46L1"
      }
    },
    {
      "cell_type": "code",
      "source": [
        "df_sem_classe = df_car.drop(['body','body_norm'],axis=1)\n",
        "df_com_classe = df_car[['body_norm']]"
      ],
      "metadata": {
        "id": "QmFim2OS4Msx"
      },
      "execution_count": 38,
      "outputs": []
    },
    {
      "cell_type": "markdown",
      "source": [
        "##### Criando modelo "
      ],
      "metadata": {
        "id": "nbkLMERS5J53"
      }
    },
    {
      "cell_type": "code",
      "source": [
        "from sklearn.preprocessing import MaxAbsScaler\n",
        "\n",
        "scaler = MaxAbsScaler()  \n",
        "scaler.fit(df_sem_classe)\n",
        "\n",
        "df_sem_classe_normalizado = scaler.transform(df_sem_classe)\n",
        "\n",
        "\n",
        "X_train, X_test, y_train, y_test = train_test_split(df_sem_classe_normalizado, df_com_classe, test_size = 0.3, random_state = 0)"
      ],
      "metadata": {
        "id": "OpT2aroP48kL"
      },
      "execution_count": 39,
      "outputs": []
    },
    {
      "cell_type": "code",
      "source": [
        "# Verificando quantas classes tem o dataset atual\n",
        "quantidade_classes = y_train['body_norm'].value_counts()\n",
        "print(quantidade_classes)"
      ],
      "metadata": {
        "colab": {
          "base_uri": "https://localhost:8080/"
        },
        "id": "9i1-WgMx49vy",
        "outputId": "dbad783f-e07a-46bf-c402-4fa1b41a8eca"
      },
      "execution_count": 40,
      "outputs": [
        {
          "output_type": "stream",
          "name": "stdout",
          "text": [
            "2    2195\n",
            "0    1355\n",
            "1     714\n",
            "4     654\n",
            "3     435\n",
            "Name: body_norm, dtype: int64\n"
          ]
        }
      ]
    },
    {
      "cell_type": "code",
      "source": [
        "# Aplicando SMOTE\n",
        "oversample = SMOTE()\n",
        "X_train_Smote, y_train_Smote = oversample.fit_resample(X_train, y_train)\n",
        "# X_train_Smote, y_train_Smote = X_train, y_train\n",
        "\n",
        "# Verificando quantas classes tem o novo dataset\n",
        "quantidade_classes = y_train_Smote['body_norm'].value_counts()\n",
        "print(quantidade_classes)"
      ],
      "metadata": {
        "colab": {
          "base_uri": "https://localhost:8080/"
        },
        "id": "GzLWe8RC5Rbv",
        "outputId": "753ced66-fdb1-4d0c-8730-ef19bf4f68c2"
      },
      "execution_count": 41,
      "outputs": [
        {
          "output_type": "stream",
          "name": "stdout",
          "text": [
            "2    2195\n",
            "1    2195\n",
            "4    2195\n",
            "3    2195\n",
            "0    2195\n",
            "Name: body_norm, dtype: int64\n"
          ]
        }
      ]
    },
    {
      "cell_type": "code",
      "source": [
        "# CRIANDO E TREINANDO O MODELO \n",
        "knn_model = KNeighborsRegressor(n_neighbors=3)\n",
        "\n",
        "knn_model.fit(X_train_Smote, y_train_Smote)\n",
        "\n",
        "y_pred  = knn_model.predict(X_test)"
      ],
      "metadata": {
        "id": "L2hYZvhg5V6s"
      },
      "execution_count": 42,
      "outputs": []
    },
    {
      "cell_type": "code",
      "source": [
        "## AVALIANDO O MODELO \n",
        "\n",
        "y_pred = pd.DataFrame(y_pred)\n",
        "\n",
        "y_pred = y_pred.astype(int)\n",
        "\n",
        "print(classification_report(y_pred, y_test))\n",
        "matriz = confusion_matrix(y_pred, y_test)"
      ],
      "metadata": {
        "colab": {
          "base_uri": "https://localhost:8080/"
        },
        "id": "3nhlLY7P5YxY",
        "outputId": "c71aa883-be8f-4c56-a307-b85a80a351a4"
      },
      "execution_count": 43,
      "outputs": [
        {
          "output_type": "stream",
          "name": "stdout",
          "text": [
            "              precision    recall  f1-score   support\n",
            "\n",
            "           0       0.92      0.93      0.92       569\n",
            "           1       0.74      0.51      0.60       469\n",
            "           2       0.73      0.81      0.77       829\n",
            "           3       0.32      0.37      0.34       163\n",
            "           4       0.82      0.90      0.86       265\n",
            "\n",
            "    accuracy                           0.76      2295\n",
            "   macro avg       0.71      0.70      0.70      2295\n",
            "weighted avg       0.76      0.76      0.75      2295\n",
            "\n"
          ]
        }
      ]
    },
    {
      "cell_type": "code",
      "source": [
        "fig = plt.figure(figsize=(8,4))\n",
        "fig.suptitle('Matriz de Confusão ', fontsize=14, fontweight='bold')\n",
        "labels = list_classes_names\n",
        "sns.heatmap(matriz,annot=True, fmt=\"d\",cmap='Blues',xticklabels=labels, yticklabels= labels)"
      ],
      "metadata": {
        "colab": {
          "base_uri": "https://localhost:8080/",
          "height": 311
        },
        "id": "GXjT4cEG5aoy",
        "outputId": "d8c160f1-994c-4b8c-9df4-98ef209582fc"
      },
      "execution_count": 44,
      "outputs": [
        {
          "output_type": "execute_result",
          "data": {
            "text/plain": [
              "<matplotlib.axes._subplots.AxesSubplot at 0x7f660aa8d5b0>"
            ]
          },
          "metadata": {},
          "execution_count": 44
        },
        {
          "output_type": "display_data",
          "data": {
            "text/plain": [
              "<Figure size 576x288 with 2 Axes>"
            ],
            "image/png": "[encoded data removed]"
          },
          "metadata": {
            "needs_background": "light"
          }
        }
      ]
    }
  ]
}