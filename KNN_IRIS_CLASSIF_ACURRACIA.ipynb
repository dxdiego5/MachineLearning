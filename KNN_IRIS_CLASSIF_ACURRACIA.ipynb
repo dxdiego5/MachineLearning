{
  "nbformat": 4,
  "nbformat_minor": 0,
  "metadata": {
    "colab": {
      "provenance": [],
      "authorship_tag": "ABX9TyPf7HXThMOFs6qcPbuhnYpU",
      "include_colab_link": true
    },
    "kernelspec": {
      "name": "python3",
      "display_name": "Python 3"
    },
    "language_info": {
      "name": "python"
    }
  },
  "cells": [
    {
      "cell_type": "markdown",
      "metadata": {
        "id": "view-in-github",
        "colab_type": "text"
      },
      "source": [
        "<a href=\"https://colab.research.google.com/github/dxdiego5/MachineLearning/blob/main/KNN_IRIS_CLASSIF_ACURRACIA.ipynb\" target=\"_parent\"><img src=\"https://colab.research.google.com/assets/colab-badge.svg\" alt=\"Open In Colab\"/></a>"
      ]
    },
    {
      "cell_type": "code",
      "execution_count": 247,
      "metadata": {
        "id": "vU622VCMqmGa"
      },
      "outputs": [],
      "source": [
        "import pandas as pd\n",
        "from sklearn.model_selection import train_test_split\n",
        "from sklearn.preprocessing import normalize\n",
        "import numpy as np\n",
        "from sklearn.metrics import accuracy_score\n",
        "\n",
        "\n",
        "def distance(element,x):\n",
        "\n",
        "\tdist = 0\n",
        "\tfor i in range(len(element)):\n",
        "\t\tdist += (element[i]-x[i])**2\n",
        "\treturn dist**(0.5)\n",
        "\n",
        "\n",
        "def most_close_element(element,x_train,y_train,y_verification):\n",
        "\n",
        "\tmin_distance = float('inf')\n",
        "\tclass_most_close = 0\n",
        "\tidx_most_close = 0\n",
        "\n",
        "\n",
        "\tfor i in range(np.shape(x_train)[0]):\n",
        "\t\tcurrent_distance = distance(element,x_train[i])\n",
        "\t\tif current_distance < min_distance and y_verification[i]:\n",
        "\t\t\tmin_distance = current_distance\n",
        "\t\t\tclass_most_close = y_train[i]\n",
        "\t\t\tidx_most_close = i\n",
        "\n",
        "\ty_verification[idx_most_close] = False\n",
        "\treturn class_most_close,y_verification\n",
        "\n",
        "\n",
        "def most_common(most_classes_close):\n",
        "\treturn max(set(most_classes_close),key=most_classes_close.count)\n",
        "\n",
        "\n",
        "def filtro_quartil_IIQ(df, col_):\n",
        "    \n",
        "  Q1 = np.percentile(df[col_], 25)\n",
        "  Q3 = np.percentile(df[col_], 75)\n",
        "\n",
        "  C = 1.5\n",
        "\n",
        "  IIQ = Q3 - Q1\n",
        "  LI = Q1 - (C * IIQ)\n",
        "  LS = Q3 + (C * IIQ)\n",
        "  \n",
        "  df_mask= df[col_] > LI\n",
        "  amplit_pos = df[df_mask]\n",
        "  \n",
        "  df_mask= amplit_pos[col_] < LS\n",
        "  df = amplit_pos[df_mask]\n",
        "  # dataframe atualizado sem outliers\n",
        "  return df\n",
        "\n",
        "def main():\n",
        "\n",
        "\tdata = pd.read_csv('iris.data')\n",
        "\t# data = pd.read_csv('iris_modificado.csv', sep=';')\n",
        "\tdata.columns = ['Comprimento_Sepal', 'Largura_Sepal', 'Comprimento_Petal', 'Largura_Petal', 'Classe']\n",
        "\n",
        "\n",
        "\t################\n",
        "\t## Se descomentar o codigo abaixo ele ira separar as classes em \n",
        "\t## dataframe disitintos e analisar com filtro de quartil \n",
        "\t## cada um dele e remover possiveis outliers\n",
        "\t################\n",
        "\n",
        "\n",
        "\t##### INICIO #####\n",
        "\t\n",
        "\t# data.dropna(inplace=True)\n",
        "\t# columns = ['Comprimento_Sepal', 'Largura_Sepal', 'Comprimento_Petal', 'Largura_Petal']\n",
        "\t# data[columns] = data[columns].apply(lambda x: x.str.replace(',', '.').astype('float'))\n",
        "\n",
        "\t# classes = data.Classe.unique()\n",
        "\t# df_classe = {}\n",
        "\n",
        "\t# for class_ in classes:\n",
        "\t# \tdf_classe[class_] = data.query(f\"Classe == '{class_}'\")\n",
        "\n",
        "\t# # Iris-setosa\n",
        "\t# # Iris-versicolor\n",
        "\t# # Iris-virginica\n",
        "\n",
        "\t# # Filtragem com quartil retirando outliers\n",
        "\t# for class_ in classes:\n",
        "\t# \tfor col_ in data.columns[:-1]:\n",
        "\t# \t\tdf_classe[class_] = filtro_quartil_IIQ(df_classe[class_], col_)\n",
        "\n",
        "\t# # Concatenação dos daframes separados da analise \n",
        "\t# data = pd.concat([df_classe[class_]  for class_ in classes]).reset_index(drop=True)\n",
        "\t\n",
        "\t##### FIM #####\n",
        "\n",
        "\n",
        "\t# Modelo\n",
        "\tx_train,x_test =  train_test_split(data, test_size=0.3, shuffle=True)\n",
        "\n",
        "\t# Encodner label classes\n",
        "\t# label_encoder = LabelEncoder()\n",
        "\t# data['Classe'] = label_encoder.fit_transform(data['Classe'])\n",
        "\n",
        "\ty_train = list(x_train['Classe'])\n",
        "\tdel x_train['Classe']\n",
        "\n",
        "\ty_test = list(x_test['Classe'])\n",
        "\tdel x_test['Classe']\n",
        "\n",
        "\tx_train = normalize(x_train, axis=1)\n",
        "\tx_test = normalize(x_test, axis=1)\n",
        "\tk = 3\n",
        "\thits = 0\n",
        "\tfor i in range(np.shape(x_test)[0]):\n",
        "\n",
        "\t\tmost_classes_close = [0]*k\n",
        "\t\ty_verification = [True]*len(y_train)\n",
        "\t\tfor j in range(k):\n",
        "\t\t\tmost_classes_close[j], y_verification = most_close_element(x_test[i], x_train, y_train, y_verification)\n",
        "\t\t\n",
        "\t\tif most_common(most_classes_close) == y_test[i]:\n",
        "\t\t\thits += 1\n",
        "\n",
        "\n",
        "\tprint(f'Total de : {np.shape(x_test)[0]}, Acertos: {hits}, Acurácia de: {round((hits/np.shape(y_test)[0])* 100, 2)}%')\n"
      ]
    },
    {
      "cell_type": "code",
      "source": [
        "main()"
      ],
      "metadata": {
        "colab": {
          "base_uri": "https://localhost:8080/"
        },
        "id": "lzonFPmUrRs5",
        "outputId": "48de1f15-ca5d-4cd4-b050-e1662220ce1f"
      },
      "execution_count": 248,
      "outputs": [
        {
          "output_type": "stream",
          "name": "stdout",
          "text": [
            "Total de : 45, Acertos: 42, Acurácia de: 93.33%\n"
          ]
        }
      ]
    },
    {
      "cell_type": "code",
      "source": [],
      "metadata": {
        "id": "fjbLBlHkJPYZ"
      },
      "execution_count": null,
      "outputs": []
    }
  ]
}